{
 "cells": [
  {
   "cell_type": "code",
   "execution_count": null,
   "id": "17be3491",
   "metadata": {
    "vscode": {
     "languageId": "plaintext"
    }
   },
   "outputs": [],
   "source": [
    "import pandas as pd\n",
    "from sklearn.model_selection import train_test_split\n",
    "from sklearn.fearture_extraction.text import TfidfVectorizer\n",
    "from sklearn.linear_moedel import LogisticRegression\n",
    "from sklearn.metrics import classification_report\n",
    "import re \n",
    "import joblib \n",
    "import string"
   ]
  },
  {
   "cell_type": "code",
   "execution_count": null,
   "id": "87ce12b6",
   "metadata": {
    "vscode": {
     "languageId": "plaintext"
    }
   },
   "outputs": [],
   "source": [
    "fake=pd.read_csv('fake.csv')\n",
    "true=pd.read_csv('True.csv')"
   ]
  },
  {
   "cell_type": "code",
   "execution_count": null,
   "id": "cb56d209",
   "metadata": {
    "vscode": {
     "languageId": "plaintext"
    }
   },
   "outputs": [],
   "source": [
    "fake.head()"
   ]
  },
  {
   "cell_type": "code",
   "execution_count": null,
   "id": "2d996781",
   "metadata": {
    "vscode": {
     "languageId": "plaintext"
    }
   },
   "outputs": [],
   "source": [
    "true.head()"
   ]
  },
  {
   "cell_type": "code",
   "execution_count": null,
   "id": "7ea80295",
   "metadata": {
    "vscode": {
     "languageId": "plaintext"
    }
   },
   "outputs": [],
   "source": [
    "fake['class']=0\n",
    "true['class']=1"
   ]
  },
  {
   "cell_type": "code",
   "execution_count": null,
   "id": "2008c8e3",
   "metadata": {
    "vscode": {
     "languageId": "plaintext"
    }
   },
   "outputs": [],
   "source": [
    "data=pd.concat([fake,true],axis=0)"
   ]
  },
  {
   "cell_type": "code",
   "execution_count": null,
   "id": "2057db17",
   "metadata": {
    "vscode": {
     "languageId": "plaintext"
    }
   },
   "outputs": [],
   "source": [
    "data.sample(10)"
   ]
  },
  {
   "cell_type": "code",
   "execution_count": null,
   "id": "93760f64",
   "metadata": {
    "vscode": {
     "languageId": "plaintext"
    }
   },
   "outputs": [],
   "source": [
    "data=data.drop([\"title\",\"subject\",\"data\"],axis=1)"
   ]
  },
  {
   "cell_type": "code",
   "execution_count": null,
   "id": "51525ba1",
   "metadata": {
    "vscode": {
     "languageId": "plaintext"
    }
   },
   "outputs": [],
   "source": [
    "data.reset_index(inplace=true)"
   ]
  },
  {
   "cell_type": "code",
   "execution_count": null,
   "id": "6446c2b6",
   "metadata": {
    "vscode": {
     "languageId": "plaintext"
    }
   },
   "outputs": [],
   "source": [
    "data.drop([index],axis=1,inplace=True)"
   ]
  },
  {
   "cell_type": "code",
   "execution_count": null,
   "id": "d9b2637c",
   "metadata": {
    "vscode": {
     "languageId": "plaintext"
    }
   },
   "outputs": [],
   "source": [
    "data.sample(5)"
   ]
  },
  {
   "cell_type": "code",
   "execution_count": null,
   "id": "d34d63a2",
   "metadata": {
    "vscode": {
     "languageId": "plaintext"
    }
   },
   "outputs": [],
   "source": [
    "def clean_text(text):\n",
    "text=text.lower()\n",
    "text=re.sub('\\[.*?\\]',\" \",text)\n",
    "text=re.sub(\"\\\\w\",\"\",text)\n",
    "text=re.sub(\"https?:://\\s+|www\\.\\s+\",\" \",text)\n",
    "text=re.sub(\"<.*?>+\",\"\",text)\n",
    "text=re.sub(\"[%s]\"% re.escape(string.punction),\"\",text)\n",
    "text=re.sub(\"\\n\",\"\",text)\n",
    "text=re.sub(\"\\w\\d\\w*\",\"\",text)\n",
    "return text\n"
   ]
  },
  {
   "cell_type": "code",
   "execution_count": null,
   "id": "ff66142e",
   "metadata": {
    "vscode": {
     "languageId": "plaintext"
    }
   },
   "outputs": [],
   "source": [
    "data[\"text\"]=data[\"text\"].apply(clean_text)"
   ]
  },
  {
   "cell_type": "code",
   "execution_count": null,
   "id": "6e4fe489",
   "metadata": {
    "vscode": {
     "languageId": "plaintext"
    }
   },
   "outputs": [],
   "source": [
    "x=data[\"text\"]\n",
    "y=data[\"class\"]\n",
    "xtrain,xtest,ytrain,ytest=train_test_split(x,y,test_size=0.25,random_state=42)\n",
    "\n"
   ]
  },
  {
   "cell_type": "code",
   "execution_count": null,
   "id": "9ff07ca6",
   "metadata": {
    "vscode": {
     "languageId": "plaintext"
    }
   },
   "outputs": [],
   "source": [
    "vectorizer=TfidfVectorizer()\n",
    "xv_train=vectorizer.fit_transform(xtrain)\n",
    "xv_test=vectorizer.transform(xtest)"
   ]
  },
  {
   "cell_type": "code",
   "execution_count": null,
   "id": "5e6920e4",
   "metadata": {
    "vscode": {
     "languageId": "plaintext"
    }
   },
   "outputs": [],
   "source": [
    "lr=logisticRegression()\n",
    "lr.fit(xv_train,ytrain)"
   ]
  },
  {
   "cell_type": "code",
   "execution_count": null,
   "id": "fa58ee08",
   "metadata": {
    "vscode": {
     "languageId": "plaintext"
    }
   },
   "outputs": [],
   "source": [
    "prediction=lr.predict(xv_test)\n",
    "lr.score(xv_test,ytest)"
   ]
  },
  {
   "cell_type": "code",
   "execution_count": null,
   "id": "c2ea2a70",
   "metadata": {
    "vscode": {
     "languageId": "plaintext"
    }
   },
   "outputs": [],
   "source": [
    "print(classification_report(ytest,prediction))"
   ]
  },
  {
   "cell_type": "code",
   "execution_count": null,
   "id": "e19b2dda",
   "metadata": {
    "vscode": {
     "languageId": "plaintext"
    }
   },
   "outputs": [],
   "source": [
    "joblib.dump(vectorizer,\"vectorizer.jb\")\n",
    "joblib.dump(lr,\"lr_model.jb\")"
   ]
  }
 ],
 "metadata": {
  "language_info": {
   "name": "python"
  }
 },
 "nbformat": 4,
 "nbformat_minor": 5
}
